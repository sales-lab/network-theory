{
 "cells": [
  {
   "cell_type": "markdown",
   "metadata": {},
   "source": [
    "# Introduction"
   ]
  },
  {
   "cell_type": "markdown",
   "metadata": {},
   "source": [
    "Network theory is a powerful tool in the study of complex systems and has been increasingly applied to the field of biology in recent years. One area in particular where network theory has made a significant impact is in the study of protein-protein interaction (PPI) networks in network biology. PPI networks provide a way to represent the molecular interactions between proteins within a cell and are crucial for understanding cellular function and processes such as signal transduction and gene regulation.\n",
    "\n",
    "Below you will find two networks, representing the yeast (left) and the human (right) interactomes.\n",
    "\n",
    "![Yeast an human PPIs](images/ppis.png)"
   ]
  },
  {
   "cell_type": "markdown",
   "metadata": {},
   "source": [
    "While these networks provide extremely valuable information, the number of nodes they include is so large to make understanding their structure difficult. Network theory provides a principled approach that is applicable even to large-scale data sets. By constructing a PPI network, researchers can gain a global perspective on the organization and function of proteins within a cell and make predictions about the effects of perturbations, such as the introduction of a drug or mutation, on the cellular network.\n",
    "\n",
    "There are several measures in network theory that are useful in the analysis of PPI networks. The degree distribution of a network is a measure of the number of connections (or \"degrees\") that a node (representing a protein) has to other nodes in the network. A scale-free network is one in which a few nodes have many connections (high-degree nodes), while most nodes have only a few connections (low-degree nodes). PPI networks have been shown to exhibit scale-free behavior, with a small number of highly connected proteins, known as \"hubs,\" playing a central role in the network.\n",
    "\n",
    "The clustering coefficient is another measure that is useful in the analysis of PPI networks. This measure reflects the degree of local interconnectedness in the network, and it is calculated by counting the number of triangles (sets of three nodes with connections between all pairs) in the network and dividing by the total number of possible triangles that could exist. A high clustering coefficient indicates a high degree of local interconnectedness, while a low clustering coefficient indicates a more dispersed network structure.\n",
    "\n",
    "Another important measure in network theory is the concept of shortest paths. Shortest paths refer to the shortest distance between two nodes in a network, and they reflect the most direct route of communication or information flow between the two nodes. In PPI networks, the shortest paths between proteins provide insights into the functional relationships between them and can be used to identify key players in signaling pathways or to predict the effects of perturbations on the network. For example, if a mutation occurs in a protein that is part of a shortest path between two other proteins, it is likely to have a significant effect on the communication between those proteins and potentially disrupt normal cellular processes. Therefore, the analysis of shortest paths in PPI networks is important for understanding the organization and function of proteins within a cell and for making predictions about the effects of perturbations on cellular networks.\n",
    "\n",
    "Finally, PageRank is a measure that was originally developed for the analysis of the World Wide Web, but has been applied to the study of PPI networks as well. PageRank is a measure of the importance of a node in a network and is based on the idea that a node is more important if it is connected to other important nodes. The PageRank of a node is calculated based on the number and importance of the nodes that link to it, as well as the number and importance of the nodes that those nodes link to, and so on.\n",
    "\n",
    "In this notebook we are going to use some Python code to compute the above measures, and observe how they differ in biological and random networks."
   ]
  },
  {
   "cell_type": "markdown",
   "metadata": {},
   "source": [
    "## PPI Network"
   ]
  },
  {
   "cell_type": "markdown",
   "metadata": {},
   "source": [
    "We are going to use the [SNAP](http://snap.stanford.edu/snappy/index.html) software to store and to manipulate graphs. In the cell below we import the library into our current Python enviroment to gain access to all of its functions."
   ]
  },
  {
   "cell_type": "code",
   "execution_count": 1,
   "metadata": {
    "tags": []
   },
   "outputs": [],
   "source": [
    "import snap"
   ]
  },
  {
   "cell_type": "markdown",
   "metadata": {},
   "source": [
    "We have already downloaded a table describing the [protein-protein interaction network](http://snap.stanford.edu/pathways/) that contains physical interactions between proteins that are experimentally documented in humans.\n",
    "\n",
    "Let's take a quick look at the first few lines in the file."
   ]
  },
  {
   "cell_type": "code",
   "execution_count": 2,
   "metadata": {},
   "outputs": [
    {
     "name": "stdout",
     "output_type": "stream",
     "text": [
      "1394,2778\r\n",
      "6331,17999\r\n",
      "122704,54460\r\n",
      "2597,2911\r\n",
      "4790,79155\r\n",
      "6146,101929876\r\n",
      "109,27115\r\n",
      "1390,84528\r\n",
      "324,10982\r\n",
      "26268,6500\r\n"
     ]
    }
   ],
   "source": [
    "!head network.csv"
   ]
  },
  {
   "cell_type": "markdown",
   "metadata": {},
   "source": [
    "Every line represents an edge between two proteins, that are identified by their Entrez Gene ID.\n",
    "\n",
    "To represent this information in Python we are going to create an appropriate graph object."
   ]
  },
  {
   "cell_type": "code",
   "execution_count": 3,
   "metadata": {},
   "outputs": [],
   "source": [
    "g = snap.TUNGraph.New()"
   ]
  },
  {
   "cell_type": "markdown",
   "metadata": {},
   "source": [
    "\"UN\" stands for \"undirected\", and represents the fact that here we are not interested in the direction associated with an edge. We assume protein-protein interactions are symmetric."
   ]
  },
  {
   "cell_type": "code",
   "execution_count": 4,
   "metadata": {},
   "outputs": [],
   "source": [
    "seen = set()\n",
    "with open(\"network.csv\", \"rt\") as fd:\n",
    "    for line in fd:\n",
    "        src, tgt = line.split(\",\")\n",
    "        src = int(src)\n",
    "        tgt = int(tgt)\n",
    "        \n",
    "        if src not in seen:\n",
    "            g.AddNode(src)\n",
    "            seen.add(src)\n",
    "            \n",
    "        if tgt not in seen:\n",
    "            g.AddNode(tgt)\n",
    "            seen.add(tgt)\n",
    "            \n",
    "        g.AddEdge(src, tgt)"
   ]
  },
  {
   "cell_type": "markdown",
   "metadata": {},
   "source": [
    "The code above is responsible for reading the edge table and for storing the relevant information in the graph `g`. The main steps are:\n",
    "\n",
    "  * **Line 1**. Define a set containing all the nodes we have encountered. Initially, the set is empty.\n",
    "  * **Line 2**. Open the network file. We will read from it through the `fd` variable.\n",
    "  * **Line 3**. Loop over all the lines in the file.\n",
    "  * **Line 4**. The IDs of the nodes are separated by a \",\", which we use to split the line into two parts.\n",
    "  * **Lines 5-6**. Initially the node names are strings. Here we convert them to integers.\n",
    "  * **Line 8**. We can only add a node to a network once. To avoid duplicating them, we check if we have seen that node before. If not, we add it to the graph object and we mark it as seen. Otherwise, the skip it.\n",
    "  * **Line 16**. We finally add a new edge, identified by the two nodes it connects.\n",
    "  \n",
    "To understand the size of the network we have created, we can measure how many nodes and edges it contains."
   ]
  },
  {
   "cell_type": "code",
   "execution_count": 5,
   "metadata": {},
   "outputs": [
    {
     "data": {
      "text/plain": [
       "21557"
      ]
     },
     "execution_count": 5,
     "metadata": {},
     "output_type": "execute_result"
    }
   ],
   "source": [
    "g.GetNodes()"
   ]
  },
  {
   "cell_type": "code",
   "execution_count": 6,
   "metadata": {},
   "outputs": [
    {
     "data": {
      "text/plain": [
       "342353"
      ]
     },
     "execution_count": 6,
     "metadata": {},
     "output_type": "execute_result"
    }
   ],
   "source": [
    "g.GetEdges()"
   ]
  },
  {
   "cell_type": "markdown",
   "metadata": {},
   "source": [
    "## Random Graph"
   ]
  },
  {
   "cell_type": "markdown",
   "metadata": {},
   "source": [
    "It would be useful to compare our newly created PPI network to a second graph of some sort. For this purpose we are going to create on a *completely random* graph.\n",
    "\n",
    "We can obtain it by means of a simple procedure. First we create as many nodes as there are proteins in the original PPI network. Then we start connecting pairs of nodes at random, until we have the same number of edges as in the first graph.\n",
    "\n",
    "It would be relatively easy to implement this procedure ourselves, but SNAP already provides a function for doing that."
   ]
  },
  {
   "cell_type": "code",
   "execution_count": 7,
   "metadata": {},
   "outputs": [],
   "source": [
    "rg = snap.GenRndGnm(snap.TUNGraph, g.GetNodes(), g.GetEdges())"
   ]
  },
  {
   "cell_type": "markdown",
   "metadata": {},
   "source": [
    "Notice that we haven't tried to generate any graphical plot of these networks. That's intentional, for two different reasons:\n",
    "\n",
    "  1. Even on a high-resolution display, it would be difficult to pick apart the nodes, let alone the edges connecting them.\n",
    "  1. In light of this difficulties, we would rather like to come up with a mathematical measure to compare graphs. We could use it for any network, regardless of size."
   ]
  },
  {
   "cell_type": "markdown",
   "metadata": {},
   "source": [
    "## Connectivity"
   ]
  },
  {
   "cell_type": "markdown",
   "metadata": {},
   "source": [
    "A node is said to have a specific *connectivity degree*, which is a number representing how many neighbors that node is connected to.\n",
    "\n",
    "![A small graph](images/tree.png)\n",
    "\n",
    "In the graph above node **1** has a degree of `1`: it has a single neighbor. Node **5**, on the other hand, is connected to both nodes **4** and **6**. Its degree is therefore `2`.\n",
    "\n",
    "With a single command we can generate a table listing home many nodes in our PPI network have a given degree."
   ]
  },
  {
   "cell_type": "code",
   "execution_count": 8,
   "metadata": {},
   "outputs": [],
   "source": [
    "ppi_distrib = [(p.GetVal1(), p.GetVal2()) for p in g.GetDegCnt()]"
   ]
  },
  {
   "cell_type": "markdown",
   "metadata": {},
   "source": [
    "The entry above is telling us that there are `1607` nodes in the network that have exactly two neighbors."
   ]
  },
  {
   "cell_type": "markdown",
   "metadata": {},
   "source": [
    "**Question 1.** What is the number of nodes with no neighbors?\n",
    "\n",
    "**Question 2.** What is the maximum connectivity degree that you can find?"
   ]
  },
  {
   "cell_type": "markdown",
   "metadata": {},
   "source": [
    "The list above contains this many entries:"
   ]
  },
  {
   "cell_type": "code",
   "execution_count": 9,
   "metadata": {},
   "outputs": [
    {
     "data": {
      "text/plain": [
       "460"
      ]
     },
     "execution_count": 9,
     "metadata": {},
     "output_type": "execute_result"
    }
   ],
   "source": [
    "len(ppi_distrib)"
   ]
  },
  {
   "cell_type": "markdown",
   "metadata": {},
   "source": [
    "The degree distribution above captures some aspects of the PPI network using a few hundreds of numbers intead of the original nodes (tens of thousands). That's a huge reduction in complexity, but we don't know yet if this summarized information is useful to classify our networks.\n",
    "\n",
    "To understand this point better, we need some plots."
   ]
  },
  {
   "cell_type": "code",
   "execution_count": 10,
   "metadata": {},
   "outputs": [],
   "source": [
    "import matplotlib.pyplot as plt\n",
    "%matplotlib inline"
   ]
  },
  {
   "cell_type": "code",
   "execution_count": 11,
   "metadata": {},
   "outputs": [
    {
     "data": {
      "image/png": "[encoded data removed]",
      "text/plain": [
       "<matplotlib.figure.Figure at 0x7f4cee919fd0>"
      ]
     },
     "metadata": {},
     "output_type": "display_data"
    }
   ],
   "source": [
    "xs = [p[0] for p in ppi_distrib]\n",
    "ys = [p[1] for p in ppi_distrib]\n",
    "plt.plot(xs, ys)\n",
    "plt.show()"
   ]
  },
  {
   "cell_type": "markdown",
   "metadata": {},
   "source": [
    "In the cells above we did two things. First, we imported *matplotlib*, a Python library for generating plots.\n",
    "\n",
    "Our degree distribution `ppi_distrib`, then, is represented in Python as a series of pairs of numbers: `(degree, number of nodes)`. If we want to plot these values as points with an $x$ and a $y$ coordinate, we need to isolate all the degrees ($x$ values) into a list; and similarly all the \"number of nodes\" ($y$ values) into a second list.\n",
    "\n",
    "Our code is correct, and yet the plot is quite difficult to interpret. The reason is that both types of values ($x$ and $y$ coordinates) span a large range. In situations like this one, using the logarithmic scale comes handy."
   ]
  },
  {
   "cell_type": "code",
   "execution_count": 12,
   "metadata": {},
   "outputs": [
    {
     "data": {
      "image/png": "[encoded data removed]",
      "text/plain": [
       "<matplotlib.figure.Figure at 0x7f4cee8e5208>"
      ]
     },
     "metadata": {},
     "output_type": "display_data"
    }
   ],
   "source": [
    "fig, ax = plt.subplots()\n",
    "ax.loglog(xs, ys)\n",
    "ax.set_xlabel(\"Degree\")\n",
    "ax.set_ylabel(\"Number of nodes\")\n",
    "ax.set_title(\"Degree Distribution for PPI Network\")\n",
    "plt.show()"
   ]
  },
  {
   "cell_type": "markdown",
   "metadata": {},
   "source": [
    "The code has become only slightly more complicated than before. We switched to the `loglog` function for changing the scales of the axes. We also took the opportunity to add a few labels to make the plot more readable.\n",
    "\n",
    "We won't provide an interpretation of this plot straight away. Rather, we will add a second curve to the plot, representing the random graph. Let's see what appears!"
   ]
  },
  {
   "cell_type": "code",
   "execution_count": 13,
   "metadata": {},
   "outputs": [
    {
     "data": {
      "image/png": "[encoded data removed]",
      "text/plain": [
       "<matplotlib.figure.Figure at 0x7f4cee676160>"
      ]
     },
     "metadata": {},
     "output_type": "display_data"
    }
   ],
   "source": [
    "rnd_distrib = [(p.GetVal1(), p.GetVal2()) for p in rg.GetDegCnt()]\n",
    "rxs = [p[0] for p in rnd_distrib]\n",
    "rys = [p[1] for p in rnd_distrib]\n",
    "\n",
    "fig, ax = plt.subplots()\n",
    "ax.loglog(xs, ys, label = \"PPI\")\n",
    "ax.loglog(rxs, rys, label = \"Random\")\n",
    "ax.set_xlabel(\"Degree\")\n",
    "ax.set_ylabel(\"Number of nodes\")\n",
    "ax.set_title(\"Degree Distribution for Both Networks\")\n",
    "\n",
    "ax.legend()\n",
    "plt.show()"
   ]
  },
  {
   "cell_type": "markdown",
   "metadata": {},
   "source": [
    "A few notes on the code above:\n",
    "\n",
    "  * **Lines 1-3.** We compute the degree distribution of the random graph, and we split $x$ and $y$ coordinates for every entry.\n",
    "  * **Line 7.** We plot a second curve for the random network. We attach to it a label, to keep track of its meaning.\n",
    "  * **Line 12.** We ask Matplotlib to generate a legend."
   ]
  },
  {
   "cell_type": "markdown",
   "metadata": {},
   "source": [
    "Now let's go back to the plot. It is evident that the two degree distributions are completely different. While the distribution for the random graph is shaped like a bell, the distribution of the PPI follows a straight line (at least, in the central part of the plot). The latter is called a **scale-free** distribution. As we said, it is associated with a small number of highly connected nodes (proteins), known as \"**hubs**,\" playing a central role in the network."
   ]
  },
  {
   "cell_type": "markdown",
   "metadata": {},
   "source": [
    "## Clustering Coefficient"
   ]
  },
  {
   "cell_type": "markdown",
   "metadata": {},
   "source": [
    "The clustering coefficient is another measure that we can use to characterize the structure of a network, in addition to the degree distribution.\n",
    "\n",
    "Every node in a graph has an associated clustering coefficient, and in general we should compute all of them. Since this operation is costly, here we are going to take a shortcut. We will sample `1000` nodes at random, and compute the clustering coefficient only for those. Cleary, our results will provide only an approximated representation. For the purpose of our discussion, that will suffice."
   ]
  },
  {
   "cell_type": "code",
   "execution_count": 71,
   "metadata": {},
   "outputs": [],
   "source": [
    "def random_node_sample(graph):\n",
    "    import random\n",
    "    all_nodes = [n.GetId() for n in graph.Nodes()]\n",
    "    return random.choices(all_nodes, k = 1000)"
   ]
  },
  {
   "cell_type": "code",
   "execution_count": 72,
   "metadata": {},
   "outputs": [],
   "source": [
    "ppi_node_sample = random_node_sample(g)\n",
    "ppi_ccs = [g.GetNodeClustCf(n)  for n in ppi_node_sample]\n",
    "rnd_ccs = [rg.GetNodeClustCf(n) for n in random_node_sample(rg)]"
   ]
  },
  {
   "cell_type": "markdown",
   "metadata": {},
   "source": [
    "If we are interested in a network-level summary, we can evaluate the average clustering coefficient over all the sampled nodes."
   ]
  },
  {
   "cell_type": "code",
   "execution_count": 73,
   "metadata": {},
   "outputs": [
    {
     "data": {
      "text/plain": [
       "0.1286773394086569"
      ]
     },
     "execution_count": 73,
     "metadata": {},
     "output_type": "execute_result"
    }
   ],
   "source": [
    "sum(ppi_ccs) / len(ppi_ccs)"
   ]
  },
  {
   "cell_type": "code",
   "execution_count": 74,
   "metadata": {},
   "outputs": [
    {
     "data": {
      "text/plain": [
       "0.001408231587270205"
      ]
     },
     "execution_count": 74,
     "metadata": {},
     "output_type": "execute_result"
    }
   ],
   "source": [
    "sum(rnd_ccs) / len(rnd_ccs)"
   ]
  },
  {
   "cell_type": "markdown",
   "metadata": {},
   "source": [
    "As you can notice, the average clustering coefficient for the PPI network is ~ 100 times larger than the corresponding value for the random graph. This reinforces the observation that an organized network is more tightly interconnected than what we would expect in the case of a random structure.\n",
    "\n",
    "At this point we might expect the hubs of the PPI network to have the largest clustering coefficients. It takes a few lines of code to verify this."
   ]
  },
  {
   "cell_type": "code",
   "execution_count": 75,
   "metadata": {},
   "outputs": [],
   "source": [
    "ppi_dgs = [g.GetNI(n).GetDeg() for n in ppi_node_sample]"
   ]
  },
  {
   "cell_type": "code",
   "execution_count": 76,
   "metadata": {},
   "outputs": [
    {
     "data": {
      "image/png": "[encoded data removed]",
      "text/plain": [
       "<matplotlib.figure.Figure at 0x7f4cec6f2c50>"
      ]
     },
     "metadata": {},
     "output_type": "display_data"
    }
   ],
   "source": [
    "fig, ax = plt.subplots()\n",
    "ax.scatter(ppi_dgs, ppi_ccs)\n",
    "ax.set_xlabel(\"Degree\")\n",
    "ax.set_ylabel(\"Clustering Coefficient\")\n",
    "plt.show()"
   ]
  },
  {
   "cell_type": "markdown",
   "metadata": {},
   "source": [
    "Perhaps surprisingly, the plot aboves shows an **inverse** relationship between degree and clustering coefficient. In other terms, hubs (high degrees, large $x$ coordinate) tend to have lower clustering coefficients ($y$ coordinate).\n",
    "\n",
    "This is not an error in our analysis. These hubs do not tend to form dense clusters with their neighbors, despite having many interactions with them.\n",
    "\n",
    "This low clustering coefficient of hubs is thought to play a crucial role in the functioning of the network. The hubs serve as connectors between different functional modules in the network, allowing for the rapid transfer of information and material between these modules. If the hubs had a high clustering coefficient, they would have been more tightly connected to a specific functional module, rather than serving as a bridge between modules."
   ]
  }
 ],
 "metadata": {
  "kernelspec": {
   "display_name": "Python 3",
   "language": "python",
   "name": "python3"
  },
  "language_info": {
   "codemirror_mode": {
    "name": "ipython",
    "version": 3
   },
   "file_extension": ".py",
   "mimetype": "text/x-python",
   "name": "python",
   "nbconvert_exporter": "python",
   "pygments_lexer": "ipython3",
   "version": "3.6.9"
  }
 },
 "nbformat": 4,
 "nbformat_minor": 5
}
