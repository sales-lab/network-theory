{
 "cells": [
  {
   "cell_type": "markdown",
   "metadata": {},
   "source": [
    "# Introduction"
   ]
  },
  {
   "cell_type": "markdown",
   "metadata": {},
   "source": [
    "Network theory is a powerful tool in the study of complex systems and has been increasingly applied to the field of biology in recent years. One area in particular where network theory has made a significant impact is in the study of protein-protein interaction (PPI) networks in network biology. PPI networks provide a way to represent the molecular interactions between proteins within a cell and are crucial for understanding cellular function and processes such as signal transduction and gene regulation.\n",
    "\n",
    "Below you will find two networks, representing the yeast (left) and the human (right) interactomes.\n",
    "\n",
    "![Yeast an human PPIs](images/ppis.png)"
   ]
  },
  {
   "cell_type": "markdown",
   "metadata": {},
   "source": [
    "While these networks provide extremely valuable information, the number of nodes they include is so large to make understanding their structure difficult. Network theory provides a principled approach that is applicable even to large-scale data sets. By constructing a PPI network, researchers can gain a global perspective on the organization and function of proteins within a cell and make predictions about the effects of perturbations, such as the introduction of a drug or mutation, on the cellular network.\n",
    "\n",
    "There are several measures in network theory that are useful in the analysis of PPI networks. The degree distribution of a network is a measure of the number of connections (or \"degrees\") that a node (representing a protein) has to other nodes in the network. A scale-free network is one in which a few nodes have many connections (high-degree nodes), while most nodes have only a few connections (low-degree nodes). PPI networks have been shown to exhibit scale-free behavior, with a small number of highly connected proteins, known as \"hubs,\" playing a central role in the network.\n",
    "\n",
    "The clustering coefficient is another measure that is useful in the analysis of PPI networks. This measure reflects the degree of local interconnectedness in the network, and it is calculated by counting the number of triangles (sets of three nodes with connections between all pairs) in the network and dividing by the total number of possible triangles that could exist. A high clustering coefficient indicates a high degree of local interconnectedness, while a low clustering coefficient indicates a more dispersed network structure.\n",
    "\n",
    "Another important measure in network theory is the concept of shortest paths. Shortest paths refer to the shortest distance between two nodes in a network, and they reflect the most direct route of communication or information flow between the two nodes. In PPI networks, the shortest paths between proteins provide insights into the functional relationships between them and can be used to identify key players in signaling pathways or to predict the effects of perturbations on the network. For example, if a mutation occurs in a protein that is part of a shortest path between two other proteins, it is likely to have a significant effect on the communication between those proteins and potentially disrupt normal cellular processes. Therefore, the analysis of shortest paths in PPI networks is important for understanding the organization and function of proteins within a cell and for making predictions about the effects of perturbations on cellular networks.\n",
    "\n",
    "Finally, PageRank is a measure that was originally developed for the analysis of the World Wide Web, but has been applied to the study of PPI networks as well. PageRank is a measure of the importance of a node in a network and is based on the idea that a node is more important if it is connected to other important nodes. The PageRank of a node is calculated based on the number and importance of the nodes that link to it, as well as the number and importance of the nodes that those nodes link to, and so on.\n",
    "\n",
    "In this notebook we are going to use some Python code to compute the above measures, and observe how they differ in biological and random networks."
   ]
  },
  {
   "cell_type": "markdown",
   "metadata": {},
   "source": [
    "## Setup"
   ]
  },
  {
   "cell_type": "markdown",
   "metadata": {},
   "source": [
    "We are going to use the [SNAP](http://snap.stanford.edu/snappy/index.html) software to store and to manipulate graphs. In the cell below we import the library into our current Python enviroment to gain access to all of its functions."
   ]
  },
  {
   "cell_type": "code",
   "execution_count": 36,
   "metadata": {
    "tags": []
   },
   "outputs": [],
   "source": [
    "import snap"
   ]
  },
  {
   "cell_type": "markdown",
   "metadata": {},
   "source": [
    "We have already downloaded a table describing the [protein-protein interaction network](http://snap.stanford.edu/pathways/) that contains physical interactions between proteins that are experimentally documented in humans.\n",
    "\n",
    "Let's take a quick look at the first few lines in the file."
   ]
  },
  {
   "cell_type": "markdown",
   "metadata": {},
   "source": [
    "Let's take a quick look at the first few lines in the file."
   ]
  },
  {
   "cell_type": "code",
   "execution_count": 38,
   "metadata": {},
   "outputs": [
    {
     "name": "stdout",
     "output_type": "stream",
     "text": [
      "1394,2778\r\n",
      "6331,17999\r\n",
      "122704,54460\r\n",
      "2597,2911\r\n",
      "4790,79155\r\n",
      "6146,101929876\r\n",
      "109,27115\r\n",
      "1390,84528\r\n",
      "324,10982\r\n",
      "26268,6500\r\n"
     ]
    }
   ],
   "source": [
    "!head network.csv"
   ]
  },
  {
   "cell_type": "markdown",
   "metadata": {},
   "source": [
    "Every line represents an edge between two proteins, that are identified by their Entrez Gene ID.\n",
    "\n",
    "To represent this information in Python we are going to create an appropriate graph object."
   ]
  },
  {
   "cell_type": "code",
   "execution_count": 42,
   "metadata": {},
   "outputs": [],
   "source": [
    "g = snap.TUNGraph.New()"
   ]
  },
  {
   "cell_type": "markdown",
   "metadata": {},
   "source": [
    "\"UN\" stands for \"undirected\", and represents the fact that here we are not interested in the direction associated with an edge. We assume protein-protein interactions are symmetric."
   ]
  },
  {
   "cell_type": "code",
   "execution_count": 43,
   "metadata": {},
   "outputs": [],
   "source": [
    "seen = set()\n",
    "with open(\"network.csv\", \"rt\") as fd:\n",
    "    for line in fd:\n",
    "        src, tgt = line.split(\",\")\n",
    "        src = int(src)\n",
    "        tgt = int(tgt)\n",
    "        \n",
    "        if src not in seen:\n",
    "            g.AddNode(src)\n",
    "            seen.add(src)\n",
    "            \n",
    "        if tgt not in seen:\n",
    "            g.AddNode(tgt)\n",
    "            seen.add(tgt)\n",
    "            \n",
    "        g.AddEdge(src, tgt)"
   ]
  },
  {
   "cell_type": "markdown",
   "metadata": {},
   "source": [
    "The code above is responsible for reading the edge table and for storing the relevant information in the graph `g`. The main steps are:\n",
    "\n",
    "  * *Line 1*. Define a set containing all the nodes we have encountered. Initially, the set is empty.\n",
    "  * *Line 2*. Open the network file. We will read from it through the `fd` variable.\n",
    "  * *Line 3*. Loop over all the lines in the file.\n",
    "  * *Line 4*. The IDs of the nodes are separated by a \",\", which we use to split the line into two parts.\n",
    "  * *Lines 5 and 6*. Initially the node names are strings. Here we convert them to integers.\n",
    "  * *Line 8*. We can only add a node to a network once. To avoid duplicating them, we check if we have seen that node before. If not, we add it to the graph object and we mark it as seen. Otherwise, the skip it.\n",
    "  * *Line 16*. We finally add a new edge, identified by the two nodes it connects.\n",
    "  \n",
    "To understand the size of the network we have created, we can measure how many nodes and edges it contains."
   ]
  },
  {
   "cell_type": "code",
   "execution_count": 46,
   "metadata": {},
   "outputs": [
    {
     "data": {
      "text/plain": [
       "21557"
      ]
     },
     "execution_count": 46,
     "metadata": {},
     "output_type": "execute_result"
    }
   ],
   "source": [
    "g.GetNodes()"
   ]
  },
  {
   "cell_type": "code",
   "execution_count": 47,
   "metadata": {},
   "outputs": [
    {
     "data": {
      "text/plain": [
       "342353"
      ]
     },
     "execution_count": 47,
     "metadata": {},
     "output_type": "execute_result"
    }
   ],
   "source": [
    "g.GetEdges()"
   ]
  }
 ],
 "metadata": {
  "kernelspec": {
   "display_name": "Python 3",
   "language": "python",
   "name": "python3"
  },
  "language_info": {
   "codemirror_mode": {
    "name": "ipython",
    "version": 3
   },
   "file_extension": ".py",
   "mimetype": "text/x-python",
   "name": "python",
   "nbconvert_exporter": "python",
   "pygments_lexer": "ipython3",
   "version": "3.6.9"
  }
 },
 "nbformat": 4,
 "nbformat_minor": 5
}
